{
 "cells": [
  {
   "cell_type": "markdown",
   "id": "c054aeb5",
   "metadata": {},
   "source": [
    "## 5장 서포트 벡터 머신"
   ]
  },
  {
   "cell_type": "markdown",
   "id": "9235b369",
   "metadata": {},
   "source": [
    "### 주요 내용\n",
    "- 선형 SVM 분류\n",
    "- 비선형 SVM 분류: 커널 트릭\n",
    "- SVM 회귀\n",
    "- SVM 이론\n",
    "\n",
    "참고: 핵심 설명과 코드는 🔑로 표시되었으며 굳이 알아둘 필요가 없는 코드는 ✋로 표시되었다.\n"
   ]
  },
  {
   "cell_type": "markdown",
   "id": "c7afddb5",
   "metadata": {},
   "source": [
    "### 기본 설정\n",
    "- 필수 모듈 불러오기\n",
    "- 그래프 출력 관련 기본 설정 지정"
   ]
  },
  {
   "cell_type": "code",
   "execution_count": 2,
   "id": "44588e4c",
   "metadata": {},
   "outputs": [],
   "source": [
    "# 파이썬 ≥3.5 필수\n",
    "import sys\n",
    "assert sys.version_info >= (3, 5) \n",
    "\n",
    "# 사이킷런 ≥0.20 필수\n",
    "import sklearn\n",
    "assert sklearn.__version__ >= \"0.20\"\n",
    "\n",
    "# 공통 모듈 임포트\n",
    "import numpy as np\n",
    "import os\n",
    "\n",
    "# 노트북 실행 결과를 동일하게 유지하기 위해\n",
    "np.random.seed(42)\n"
   ]
  },
  {
   "cell_type": "code",
   "execution_count": 3,
   "id": "49eb43d0",
   "metadata": {},
   "outputs": [],
   "source": [
    "\n",
    "# 깔끔한 그래프 출력을 위해\n",
    "%matplotlib inline\n",
    "import matplotlib as mpl\n",
    "import matplotlib.pyplot as plt\n",
    "mpl.rc('axes', labelsize=14)\n",
    "mpl.rc('xtick', labelsize=12)\n",
    "mpl.rc('ytick', labelsize=12)\n",
    "\n",
    "# 그림을 저장할 위치\n",
    "PROJECT_ROOT_DIR = \".\"\n",
    "CHAPTER_ID = \"svm\"\n",
    "IMAGES_PATH = os.path.join(PROJECT_ROOT_DIR, \"images\", CHAPTER_ID)\n",
    "os.makedirs(IMAGES_PATH, exist_ok=True)\n",
    "\n",
    "def save_fig(fig_id, tight_layout=True, fig_extension=\"png\", resolution=300):\n",
    "    path = os.path.join(IMAGES_PATH, fig_id + \".\" + fig_extension)\n",
    "    print(\"그림 저장:\", fig_id)\n",
    "    if tight_layout:\n",
    "        plt.tight_layout()\n",
    "    plt.savefig(path, format=fig_extension, dpi=resolution)"
   ]
  },
  {
   "cell_type": "markdown",
   "id": "7607bce6",
   "metadata": {},
   "source": [
    "### 5.1 선형 SVM 분류 (p. 205)\n",
    "\n",
    "그림 5-1 코드 (p. 206)\n",
    "붓꽃 데이터에서 세토사(setosa) 품종과 버시컬러(versicolor) 품종만을 대상으로 선형 SVM 분류기(하드 마진 분류)를 학습시킨다."
   ]
  },
  {
   "cell_type": "code",
   "execution_count": 4,
   "id": "eeab383f",
   "metadata": {},
   "outputs": [
    {
     "data": {
      "text/plain": [
       "SVC(kernel='linear')"
      ]
     },
     "execution_count": 4,
     "metadata": {},
     "output_type": "execute_result"
    }
   ],
   "source": [
    "from sklearn.svm import SVC\n",
    "from sklearn import datasets\n",
    "\n",
    "iris = datasets.load_iris()\n",
    "X = iris[\"data\"][:, (2, 3)]                      # 특성 2개(꽃잎 길이, 꽃잎 너비)\n",
    "y = iris[\"target\"]\n",
    "\n",
    "setosa_or_versicolor = (y == 0) | (y == 1)      # 세토사와 버시컬러만 대상임.\n",
    "X = X[setosa_or_versicolor]\n",
    "y = y[setosa_or_versicolor]\n",
    "\n",
    "# 선형 SVM 분류 모델\n",
    "svm_clf = SVC(kernel=\"linear\", \n",
    "             )  # C=무한대. 즉, 하드 마진 분류임.\n",
    "svm_clf.fit(X, y)"
   ]
  },
  {
   "cell_type": "markdown",
   "id": "13c795b4",
   "metadata": {},
   "source": [
    "아래 함수는 SVM 분류 모델로 학습된 내용을 그래프로 보여준다. 3개의 인자가 요구된다.\n",
    "\n",
    "- svm_clf: 학습된 SVM 모델\n",
    "- xmin, xmax: 그래프의 x축 좌표 구간"
   ]
  },
  {
   "cell_type": "code",
   "execution_count": 5,
   "id": "8def720e",
   "metadata": {},
   "outputs": [],
   "source": [
    "def plot_svc_decision_boundary(svm_clf, xmin, xmax):\n",
    "    w = svm_clf.coef_[0]            # 결정경계 파라미터(w0, w1)\n",
    "    b = svm_clf.intercept_[0]       # 절편(b)\n",
    "\n",
    "    # 결정경계에서 w0*x0 + w1*x1 + b = 0 이므로\n",
    "    # => x1 = -w0/w1 * x0 - b/w1\n",
    "    x0 = np.linspace(xmin, xmax, 200)\n",
    "    decision_boundary = -w[0]/w[1] * x0 - b/w[1]    # 결정경계\n",
    "\n",
    "    margin = 1/w[1]                                 # 마진(도로 폭)\n",
    "    gutter_up = decision_boundary + margin          # 도로 경계(윗쪽)\n",
    "    gutter_down = decision_boundary - margin        # 도로 경계(아랫쪽)\n",
    "\n",
    "    # 서포트 벡터 표시\n",
    "    svs = svm_clf.support_vectors_\n",
    "    plt.scatter(svs[:, 0], svs[:, 1], s=180, facecolors='#FFAAAA')\n",
    "    \n",
    "    # 결정경계 및 도로 경계 그리기\n",
    "    plt.plot(x0, decision_boundary, \"k-\", linewidth=2)\n",
    "    plt.plot(x0, gutter_up, \"k--\", linewidth=2)\n",
    "    plt.plot(x0, gutter_down, \"k--\", linewidth=2)"
   ]
  },
  {
   "cell_type": "markdown",
   "id": "3fbb9a3c",
   "metadata": {},
   "source": [
    "아래 코드는 그림 5-1을 그린다.\n",
    "\n",
    "- 왼편 그림: 일반적인 선형 분류의 단점을 보여주기 위해 일부러 선분을 극단적으로 그림.\n",
    "- 오른편 그림: SVM (하드 마진) 분류의 장점을 잘 보여줌."
   ]
  },
  {
   "cell_type": "code",
   "execution_count": 6,
   "id": "b6aa7807",
   "metadata": {},
   "outputs": [
    {
     "name": "stdout",
     "output_type": "stream",
     "text": [
      "그림 저장: large_margin_classification_plot\n"
     ]
    },
    {
     "data": {
      "image/png": "[encoded data removed]",
      "text/plain": [
       "<Figure size 720x194.4 with 2 Axes>"
      ]
     },
     "metadata": {
      "needs_background": "light"
     },
     "output_type": "display_data"
    }
   ],
   "source": [
    "fig, axes = plt.subplots(ncols=2, figsize=(10,2.7), sharey=True)\n",
    "\n",
    "# 왼쪽 그림\n",
    "x0 = np.linspace(0, 5.5, 200)\n",
    "pred_1 = 5*x0 - 20\n",
    "pred_2 = x0 - 1.8\n",
    "pred_3 = 0.1 * x0 + 0.5\n",
    "\n",
    "plt.sca(axes[0])\n",
    "plt.plot(x0, pred_1, \"g--\", linewidth=2)\n",
    "plt.plot(x0, pred_2, \"m-\", linewidth=2)\n",
    "plt.plot(x0, pred_3, \"r-\", linewidth=2)\n",
    "plt.plot(X[:, 0][y==1], X[:, 1][y==1], \"bs\", label=\"Iris versicolor\")\n",
    "plt.plot(X[:, 0][y==0], X[:, 1][y==0], \"yo\", label=\"Iris setosa\")\n",
    "plt.xlabel(\"Petal length\", fontsize=14)\n",
    "plt.ylabel(\"Petal width\", fontsize=14)\n",
    "plt.legend(loc=\"upper left\", fontsize=14)\n",
    "plt.axis([0, 5.5, 0, 2])\n",
    "\n",
    "# 오른쪽 그림\n",
    "plt.sca(axes[1])\n",
    "plot_svc_decision_boundary(svm_clf, 0, 5.5)\n",
    "plt.plot(X[:, 0][y==1], X[:, 1][y==1], \"bs\")\n",
    "plt.plot(X[:, 0][y==0], X[:, 1][y==0], \"yo\")\n",
    "plt.xlabel(\"Petal length\", fontsize=14)\n",
    "plt.axis([0, 5.5, 0, 2])\n",
    "\n",
    "save_fig(\"large_margin_classification_plot\")\n",
    "plt.show()\n"
   ]
  },
  {
   "cell_type": "markdown",
   "id": "47a60183",
   "metadata": {},
   "source": [
    "#### 그림 5-2 코드 (p. 206)\n",
    "\n",
    "아래 코드는 SVM이 특성 축척에 민감하다는 것을 보여주는 그림을 그려준다.\n",
    "\n",
    "- 학습 데이터: 작위적으로 지정된 데이터 네 개 (특성 수는 2)\n",
    "- 왼편 그림: 축척 조정 없음\n",
    "- 오른편 그림: 축척 조정 전처리 추가"
   ]
  },
  {
   "cell_type": "code",
   "execution_count": 7,
   "id": "d0323055",
   "metadata": {},
   "outputs": [
    {
     "name": "stdout",
     "output_type": "stream",
     "text": [
      "그림 저장: sensitivity_to_feature_scales_plot\n"
     ]
    },
    {
     "data": {
      "image/png": "[encoded data removed]",
      "text/plain": [
       "<Figure size 648x194.4 with 2 Axes>"
      ]
     },
     "metadata": {
      "needs_background": "light"
     },
     "output_type": "display_data"
    }
   ],
   "source": [
    "# 학습 데이터 4개\n",
    "Xs = np.array([[1, 50], [5, 20], [3, 80], [5, 60]]).astype(np.float64)\n",
    "ys = np.array([0, 0, 1, 1])\n",
    "\n",
    "# SVM 훈련\n",
    "svm_clf = SVC(kernel=\"linear\", C=100)   # 마진 조금 허용\n",
    "svm_clf.fit(Xs, ys)\n",
    "\n",
    "# 왼편 그림\n",
    "plt.figure(figsize=(9,2.7))\n",
    "plt.subplot(121)\n",
    "plt.plot(Xs[:, 0][ys==1], Xs[:, 1][ys==1], \"bo\")\n",
    "plt.plot(Xs[:, 0][ys==0], Xs[:, 1][ys==0], \"ms\")\n",
    "plot_svc_decision_boundary(svm_clf, 0, 6)\n",
    "plt.xlabel(\"$x_0$\", fontsize=20)\n",
    "plt.ylabel(\"$x_1$    \", fontsize=20, rotation=0)\n",
    "plt.title(\"Unscaled\", fontsize=16)\n",
    "plt.axis([0, 6, 0, 90])\n",
    "\n",
    "# 오른편 그림(축척 조정 전처리 사용)\n",
    "from sklearn.preprocessing import StandardScaler\n",
    "scaler = StandardScaler()\n",
    "X_scaled = scaler.fit_transform(Xs)\n",
    "svm_clf.fit(X_scaled, ys)\n",
    "\n",
    "plt.subplot(122)\n",
    "plt.plot(X_scaled[:, 0][ys==1], X_scaled[:, 1][ys==1], \"bo\")\n",
    "plt.plot(X_scaled[:, 0][ys==0], X_scaled[:, 1][ys==0], \"ms\")\n",
    "plot_svc_decision_boundary(svm_clf, -2, 2)\n",
    "plt.xlabel(\"$x_0$\", fontsize=20)\n",
    "plt.ylabel(\"$x'_1$  \", fontsize=20, rotation=0)\n",
    "plt.title(\"Scaled\", fontsize=16)\n",
    "plt.axis([-2, 2, -2, 2])\n",
    "\n",
    "save_fig(\"sensitivity_to_feature_scales_plot\")"
   ]
  },
  {
   "cell_type": "markdown",
   "id": "38bc34ec",
   "metadata": {},
   "source": [
    "### 5.1.1 소프트 마진 분류 (p.206)"
   ]
  },
  {
   "cell_type": "markdown",
   "id": "ec937596",
   "metadata": {},
   "source": [
    "## 그림 5-3 코드 (p. 207)\n",
    "아래 코드는 그림 5-1에서 사용한 붓꽃 데이터에 이상치 두 개를 추가할 때 SVM을 이용한 하드 마진 분류의 문제를 보여준다.\n",
    "\n",
    "- 왼편 그림에 사용된 이상치의 꽃잎 길이/너비 특성: [3.4, 1.3]\n",
    "- 오른편 그림에 사용된 이상치의 꽃잎 길이/너비 특성: [3.2, 0.8]"
   ]
  },
  {
   "cell_type": "code",
   "execution_count": 8,
   "id": "fd2f7a0d",
   "metadata": {},
   "outputs": [],
   "source": [
    "# 이상치 두 개\n",
    "X_outliers = np.array([[3.4, 1.3], [3.2, 0.8]])\n",
    "y_outliers = np.array([0, 0])\n",
    "\n",
    "# 왼편 그림 훈련 세트\n",
    "Xo1 = np.concatenate([X, X_outliers[:1]], axis=0)\n",
    "yo1 = np.concatenate([y, y_outliers[:1]], axis=0)\n",
    "\n",
    "# 오른편 그림 훈련 세트\n",
    "Xo2 = np.concatenate([X, X_outliers[1:]], axis=0)\n",
    "yo2 = np.concatenate([y, y_outliers[1:]], axis=0)"
   ]
  },
  {
   "cell_type": "code",
   "execution_count": 9,
   "id": "3bbb493c",
   "metadata": {},
   "outputs": [
    {
     "name": "stdout",
     "output_type": "stream",
     "text": [
      "그림 저장: sensitivity_to_outliers_plot\n"
     ]
    },
    {
     "data": {
      "image/png": "[encoded data removed]",
      "text/plain": [
       "<Figure size 720x194.4 with 2 Axes>"
      ]
     },
     "metadata": {
      "needs_background": "light"
     },
     "output_type": "display_data"
    }
   ],
   "source": [
    "fig, axes = plt.subplots(ncols=2, figsize=(10,2.7), sharey=True)\n",
    "\n",
    "# 왼편 그림: 하드 마진 분류 불가능\n",
    "plt.sca(axes[0])\n",
    "plt.plot(Xo1[:, 0][yo1==1], Xo1[:, 1][yo1==1], \"bs\")\n",
    "plt.plot(Xo1[:, 0][yo1==0], Xo1[:, 1][yo1==0], \"yo\")\n",
    "plt.text(0.3, 1.0, \"Impossible!\", fontsize=24, color=\"red\")\n",
    "plt.xlabel(\"Petal length\", fontsize=14)\n",
    "plt.ylabel(\"Petal width\", fontsize=14)\n",
    "plt.annotate(\"Outlier\",\n",
    "             xy=(X_outliers[0][0], X_outliers[0][1]),\n",
    "             xytext=(2.5, 1.7),\n",
    "             ha=\"center\",\n",
    "             arrowprops=dict(facecolor='black', shrink=0.1),\n",
    "             fontsize=16,\n",
    "            )\n",
    "plt.axis([0, 5.5, 0, 2])\n",
    "\n",
    "# 오른편 그림: 좋지 않은 하드 마진 분류. SVC와 linear 커널 사용.\n",
    "svm_clf2 = SVC(kernel=\"linear\", C=10**9)     # 마진 매우 작게 설정\n",
    "svm_clf2.fit(Xo2, yo2)\n",
    "\n",
    "plt.sca(axes[1])\n",
    "plt.plot(Xo2[:, 0][yo2==1], Xo2[:, 1][yo2==1], \"bs\")\n",
    "plt.plot(Xo2[:, 0][yo2==0], Xo2[:, 1][yo2==0], \"yo\")\n",
    "plot_svc_decision_boundary(svm_clf2, 0, 5.5)\n",
    "plt.xlabel(\"Petal length\", fontsize=14)\n",
    "plt.annotate(\"Outlier\",\n",
    "             xy=(X_outliers[1][0], X_outliers[1][1]),\n",
    "             xytext=(3.2, 0.08),\n",
    "             ha=\"center\",\n",
    "             arrowprops=dict(facecolor='black', shrink=0.1),\n",
    "             fontsize=16,\n",
    "            )\n",
    "plt.axis([0, 5.5, 0, 2])\n",
    "\n",
    "save_fig(\"sensitivity_to_outliers_plot\")\n",
    "plt.show()"
   ]
  },
  {
   "cell_type": "markdown",
   "id": "f89273fe",
   "metadata": {},
   "source": [
    "### 선형 소프트 마진 분류 학습\n",
    "아래 코드는 마진 오류를 허용하는, 즉 소프트 마진 분류를 지원하는 선형 SVM 학습법을 보여준다.\n",
    "\n",
    "- LinearSVC: 선형 SVM 이진 분류 모델.\n",
    "    - C=1: 기본값\n",
    "    -  logss=hinge: hinge 손실함수 사용. 기본값은 squared_hinge, hinge 손실함수의 제곱이며 미분가능.\n",
    "    - dual=True: 쌍대성(duality) 이용 여부. True가 기본. 하지만 특성 수가 샘플 수보다 작을 때는 False 권장.\n",
    "    \n",
    "    \n",
    "    \n",
    "- 훈련 세트: 붓꽃 데이터 전체\n",
    "- 타깃: 버지니카 품종 여부 (음성 0, 양성 1)\n",
    "- 표준화 축척 조정 전처리 사용\n",
    "\n",
    "\n",
    "주의사항: LinearSVC 모델의 C에 의한 규제에 편향(절편)도 포함된다. 따라서 평균을 빼서 0으로 편향을 없애는 것이 중요하다. 하지만 표준화 축척 조정을 하면 자연스럽게 해결된다."
   ]
  },
  {
   "cell_type": "code",
   "execution_count": 10,
   "id": "43794d2b",
   "metadata": {},
   "outputs": [
    {
     "data": {
      "text/plain": [
       "Pipeline(steps=[('scaler', StandardScaler()),\n",
       "                ('linear_svc', LinearSVC(C=1, loss='hinge', random_state=42))])"
      ]
     },
     "execution_count": 10,
     "metadata": {},
     "output_type": "execute_result"
    }
   ],
   "source": [
    "from sklearn.pipeline import Pipeline\n",
    "from sklearn.preprocessing import StandardScaler\n",
    "from sklearn.svm import LinearSVC\n",
    "\n",
    "iris = datasets.load_iris()\n",
    "X = iris[\"data\"][:, (2, 3)]                   # 특성: 꽃잎 길이, 꽃잎 너비\n",
    "y = (iris[\"target\"] == 2).astype(np.float64)  # 타깃: 버지니카(Iris-Verginica) 품종 여부\n",
    "\n",
    "svm_clf = Pipeline([\n",
    "        (\"scaler\", StandardScaler()),\n",
    "        (\"linear_svc\", LinearSVC(C=1, loss=\"hinge\", random_state=42)),\n",
    "    ])\n",
    "\n",
    "svm_clf.fit(X, y)"
   ]
  },
  {
   "cell_type": "markdown",
   "id": "c241f33f",
   "metadata": {},
   "source": [
    "[5.5, 1.7] 특성을 갖는 붓꽃에 대한 예측은 양성, 즉 버지니카 품종이다."
   ]
  },
  {
   "cell_type": "code",
   "execution_count": 11,
   "id": "87821f40",
   "metadata": {},
   "outputs": [
    {
     "data": {
      "text/plain": [
       "array([1.])"
      ]
     },
     "execution_count": 11,
     "metadata": {},
     "output_type": "execute_result"
    }
   ],
   "source": [
    "svm_clf.predict([[5.5, 1.7]])"
   ]
  },
  {
   "cell_type": "code",
   "execution_count": null,
   "id": "a018faa1",
   "metadata": {},
   "outputs": [],
   "source": []
  },
  {
   "cell_type": "code",
   "execution_count": null,
   "id": "d788d8dd",
   "metadata": {},
   "outputs": [],
   "source": []
  },
  {
   "cell_type": "code",
   "execution_count": null,
   "id": "137f0515",
   "metadata": {},
   "outputs": [],
   "source": []
  },
  {
   "cell_type": "code",
   "execution_count": null,
   "id": "c1f983a7",
   "metadata": {},
   "outputs": [],
   "source": []
  },
  {
   "cell_type": "code",
   "execution_count": null,
   "id": "1526121b",
   "metadata": {},
   "outputs": [],
   "source": []
  },
  {
   "cell_type": "code",
   "execution_count": null,
   "id": "4e52d99b",
   "metadata": {},
   "outputs": [],
   "source": []
  }
 ],
 "metadata": {
  "kernelspec": {
   "display_name": "Python 3 (ipykernel)",
   "language": "python",
   "name": "python3"
  },
  "language_info": {
   "codemirror_mode": {
    "name": "ipython",
    "version": 3
   },
   "file_extension": ".py",
   "mimetype": "text/x-python",
   "name": "python",
   "nbconvert_exporter": "python",
   "pygments_lexer": "ipython3",
   "version": "3.9.7"
  }
 },
 "nbformat": 4,
 "nbformat_minor": 5
}
